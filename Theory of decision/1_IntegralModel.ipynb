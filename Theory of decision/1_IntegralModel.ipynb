{
 "cells": [
  {
   "cell_type": "code",
   "execution_count": 17,
   "metadata": {},
   "outputs": [],
   "source": [
    "import numpy as np\n",
    "import pandas as pd\n",
    "from matplotlib import pyplot as plt\n",
    "from io import StringIO\n",
    "%matplotlib inline"
   ]
  },
  {
   "cell_type": "code",
   "execution_count": 35,
   "metadata": {},
   "outputs": [
    {
     "data": {
      "text/html": [
       "<div>\n",
       "<style scoped>\n",
       "    .dataframe tbody tr th:only-of-type {\n",
       "        vertical-align: middle;\n",
       "    }\n",
       "\n",
       "    .dataframe tbody tr th {\n",
       "        vertical-align: top;\n",
       "    }\n",
       "\n",
       "    .dataframe thead th {\n",
       "        text-align: right;\n",
       "    }\n",
       "</style>\n",
       "<table border=\"1\" class=\"dataframe\">\n",
       "  <thead>\n",
       "    <tr style=\"text-align: right;\">\n",
       "      <th></th>\n",
       "      <th>Name</th>\n",
       "      <th>Power</th>\n",
       "      <th>Acceleration</th>\n",
       "      <th>Max speed</th>\n",
       "      <th>Consumption</th>\n",
       "      <th>Transmission</th>\n",
       "      <th>Cost</th>\n",
       "    </tr>\n",
       "  </thead>\n",
       "  <tbody>\n",
       "    <tr>\n",
       "      <td>0</td>\n",
       "      <td>Mersedes</td>\n",
       "      <td>150</td>\n",
       "      <td>8.1</td>\n",
       "      <td>230</td>\n",
       "      <td>6.65</td>\n",
       "      <td>Auto</td>\n",
       "      <td>208000</td>\n",
       "    </tr>\n",
       "    <tr>\n",
       "      <td>1</td>\n",
       "      <td>BMW</td>\n",
       "      <td>136</td>\n",
       "      <td>8.9</td>\n",
       "      <td>210</td>\n",
       "      <td>6.30</td>\n",
       "      <td>Mechanic</td>\n",
       "      <td>2060000</td>\n",
       "    </tr>\n",
       "    <tr>\n",
       "      <td>2</td>\n",
       "      <td>AUDI</td>\n",
       "      <td>190</td>\n",
       "      <td>6.8</td>\n",
       "      <td>250</td>\n",
       "      <td>7.20</td>\n",
       "      <td>Auto</td>\n",
       "      <td>2085000</td>\n",
       "    </tr>\n",
       "    <tr>\n",
       "      <td>3</td>\n",
       "      <td>Wolts</td>\n",
       "      <td>150</td>\n",
       "      <td>7.9</td>\n",
       "      <td>232</td>\n",
       "      <td>7.10</td>\n",
       "      <td>Auto</td>\n",
       "      <td>2097210</td>\n",
       "    </tr>\n",
       "  </tbody>\n",
       "</table>\n",
       "</div>"
      ],
      "text/plain": [
       "       Name  Power  Acceleration  Max speed  Consumption Transmission     Cost\n",
       "0  Mersedes    150           8.1        230         6.65         Auto   208000\n",
       "1       BMW    136           8.9        210         6.30     Mechanic  2060000\n",
       "2      AUDI    190           6.8        250         7.20         Auto  2085000\n",
       "3     Wolts    150           7.9        232         7.10         Auto  2097210"
      ]
     },
     "execution_count": 35,
     "metadata": {},
     "output_type": "execute_result"
    }
   ],
   "source": [
    "data = 'Name,Power,Acceleration,Max speed,Consumption,Transmission,Cost\\nMersedes,150,8.1,230,6.65,Auto,208000\\nBMW,136,8.9,210,6.3,Mechanic,2060000\\nAUDI,190,6.8,250,7.2,Auto,2085000\\nWolts,150,7.9,232,7.1,Auto,2097210'\n",
    "df = pd.read_csv(StringIO(data))\n",
    "df2 = df[['Power', 'Acceleration', 'Max speed', 'Consumption']]\n",
    "df"
   ]
  },
  {
   "cell_type": "code",
   "execution_count": 36,
   "metadata": {},
   "outputs": [
    {
     "data": {
      "text/html": [
       "<div>\n",
       "<style scoped>\n",
       "    .dataframe tbody tr th:only-of-type {\n",
       "        vertical-align: middle;\n",
       "    }\n",
       "\n",
       "    .dataframe tbody tr th {\n",
       "        vertical-align: top;\n",
       "    }\n",
       "\n",
       "    .dataframe thead th {\n",
       "        text-align: right;\n",
       "    }\n",
       "</style>\n",
       "<table border=\"1\" class=\"dataframe\">\n",
       "  <thead>\n",
       "    <tr style=\"text-align: right;\">\n",
       "      <th></th>\n",
       "      <th>Power</th>\n",
       "      <th>Acceleration</th>\n",
       "      <th>Max speed</th>\n",
       "      <th>Consumption</th>\n",
       "    </tr>\n",
       "  </thead>\n",
       "  <tbody>\n",
       "    <tr>\n",
       "      <td>0</td>\n",
       "      <td>0.87963</td>\n",
       "      <td>1.083333</td>\n",
       "      <td>0.9875</td>\n",
       "      <td>0.819444</td>\n",
       "    </tr>\n",
       "    <tr>\n",
       "      <td>1</td>\n",
       "      <td>0.62037</td>\n",
       "      <td>1.464286</td>\n",
       "      <td>0.4875</td>\n",
       "      <td>0.430556</td>\n",
       "    </tr>\n",
       "    <tr>\n",
       "      <td>2</td>\n",
       "      <td>1.62037</td>\n",
       "      <td>0.464286</td>\n",
       "      <td>1.4875</td>\n",
       "      <td>1.430556</td>\n",
       "    </tr>\n",
       "    <tr>\n",
       "      <td>3</td>\n",
       "      <td>0.87963</td>\n",
       "      <td>0.988095</td>\n",
       "      <td>1.0375</td>\n",
       "      <td>1.319444</td>\n",
       "    </tr>\n",
       "  </tbody>\n",
       "</table>\n",
       "</div>"
      ],
      "text/plain": [
       "     Power  Acceleration  Max speed  Consumption\n",
       "0  0.87963      1.083333     0.9875     0.819444\n",
       "1  0.62037      1.464286     0.4875     0.430556\n",
       "2  1.62037      0.464286     1.4875     1.430556\n",
       "3  0.87963      0.988095     1.0375     1.319444"
      ]
     },
     "execution_count": 36,
     "metadata": {},
     "output_type": "execute_result"
    }
   ],
   "source": [
    "#Нормализация\n",
    "df_norm = 1+(df2 - df2.mean()) / (df2.max() - df2.min())\n",
    "df_norm\n"
   ]
  },
  {
   "cell_type": "code",
   "execution_count": 37,
   "metadata": {},
   "outputs": [
    {
     "data": {
      "text/html": [
       "<div>\n",
       "<style scoped>\n",
       "    .dataframe tbody tr th:only-of-type {\n",
       "        vertical-align: middle;\n",
       "    }\n",
       "\n",
       "    .dataframe tbody tr th {\n",
       "        vertical-align: top;\n",
       "    }\n",
       "\n",
       "    .dataframe thead th {\n",
       "        text-align: right;\n",
       "    }\n",
       "</style>\n",
       "<table border=\"1\" class=\"dataframe\">\n",
       "  <thead>\n",
       "    <tr style=\"text-align: right;\">\n",
       "      <th></th>\n",
       "      <th>Power</th>\n",
       "      <th>Acceleration</th>\n",
       "      <th>Max speed</th>\n",
       "      <th>Consumption</th>\n",
       "      <th>Auto</th>\n",
       "    </tr>\n",
       "  </thead>\n",
       "  <tbody>\n",
       "    <tr>\n",
       "      <td>0</td>\n",
       "      <td>0.87963</td>\n",
       "      <td>1.083333</td>\n",
       "      <td>0.9875</td>\n",
       "      <td>0.819444</td>\n",
       "      <td>True</td>\n",
       "    </tr>\n",
       "    <tr>\n",
       "      <td>1</td>\n",
       "      <td>0.62037</td>\n",
       "      <td>1.464286</td>\n",
       "      <td>0.4875</td>\n",
       "      <td>0.430556</td>\n",
       "      <td>False</td>\n",
       "    </tr>\n",
       "    <tr>\n",
       "      <td>2</td>\n",
       "      <td>1.62037</td>\n",
       "      <td>0.464286</td>\n",
       "      <td>1.4875</td>\n",
       "      <td>1.430556</td>\n",
       "      <td>True</td>\n",
       "    </tr>\n",
       "    <tr>\n",
       "      <td>3</td>\n",
       "      <td>0.87963</td>\n",
       "      <td>0.988095</td>\n",
       "      <td>1.0375</td>\n",
       "      <td>1.319444</td>\n",
       "      <td>True</td>\n",
       "    </tr>\n",
       "  </tbody>\n",
       "</table>\n",
       "</div>"
      ],
      "text/plain": [
       "     Power  Acceleration  Max speed  Consumption   Auto\n",
       "0  0.87963      1.083333     0.9875     0.819444   True\n",
       "1  0.62037      1.464286     0.4875     0.430556  False\n",
       "2  1.62037      0.464286     1.4875     1.430556   True\n",
       "3  0.87963      0.988095     1.0375     1.319444   True"
      ]
     },
     "execution_count": 37,
     "metadata": {},
     "output_type": "execute_result"
    }
   ],
   "source": [
    "df_norm['Auto'] =  (df['Transmission'].values == 'Auto')\n",
    "df_norm"
   ]
  },
  {
   "cell_type": "code",
   "execution_count": 38,
   "metadata": {},
   "outputs": [
    {
     "data": {
      "text/html": [
       "<div>\n",
       "<style scoped>\n",
       "    .dataframe tbody tr th:only-of-type {\n",
       "        vertical-align: middle;\n",
       "    }\n",
       "\n",
       "    .dataframe tbody tr th {\n",
       "        vertical-align: top;\n",
       "    }\n",
       "\n",
       "    .dataframe thead th {\n",
       "        text-align: right;\n",
       "    }\n",
       "</style>\n",
       "<table border=\"1\" class=\"dataframe\">\n",
       "  <thead>\n",
       "    <tr style=\"text-align: right;\">\n",
       "      <th></th>\n",
       "      <th>Power</th>\n",
       "      <th>Acceleration</th>\n",
       "      <th>Max speed</th>\n",
       "      <th>Consumption</th>\n",
       "      <th>Auto</th>\n",
       "    </tr>\n",
       "  </thead>\n",
       "  <tbody>\n",
       "    <tr>\n",
       "      <td>0</td>\n",
       "      <td>0.87963</td>\n",
       "      <td>0.916667</td>\n",
       "      <td>0.9875</td>\n",
       "      <td>1.180556</td>\n",
       "      <td>True</td>\n",
       "    </tr>\n",
       "    <tr>\n",
       "      <td>1</td>\n",
       "      <td>0.62037</td>\n",
       "      <td>0.535714</td>\n",
       "      <td>0.4875</td>\n",
       "      <td>1.569444</td>\n",
       "      <td>False</td>\n",
       "    </tr>\n",
       "    <tr>\n",
       "      <td>2</td>\n",
       "      <td>1.62037</td>\n",
       "      <td>1.535714</td>\n",
       "      <td>1.4875</td>\n",
       "      <td>0.569444</td>\n",
       "      <td>True</td>\n",
       "    </tr>\n",
       "    <tr>\n",
       "      <td>3</td>\n",
       "      <td>0.87963</td>\n",
       "      <td>1.011905</td>\n",
       "      <td>1.0375</td>\n",
       "      <td>0.680556</td>\n",
       "      <td>True</td>\n",
       "    </tr>\n",
       "  </tbody>\n",
       "</table>\n",
       "</div>"
      ],
      "text/plain": [
       "     Power  Acceleration  Max speed  Consumption   Auto\n",
       "0  0.87963      0.916667     0.9875     1.180556   True\n",
       "1  0.62037      0.535714     0.4875     1.569444  False\n",
       "2  1.62037      1.535714     1.4875     0.569444   True\n",
       "3  0.87963      1.011905     1.0375     0.680556   True"
      ]
     },
     "execution_count": 38,
     "metadata": {},
     "output_type": "execute_result"
    }
   ],
   "source": [
    "df_norm['Acceleration'] = 2-df_norm['Acceleration']\n",
    "df_norm['Consumption']  = 2-df_norm['Consumption']\n",
    "df_norm"
   ]
  },
  {
   "cell_type": "code",
   "execution_count": 39,
   "metadata": {},
   "outputs": [],
   "source": [
    "model_mother = np.array([1,1,1,4,6])  #Веса: мощность, разгон, макс.скорость - 1, расход - 4, коробка передач - 6\n",
    "line = np.array(df_norm.loc[0:3])\n",
    "df['mother_model'] = line.dot(model_mother)"
   ]
  },
  {
   "cell_type": "code",
   "execution_count": 40,
   "metadata": {},
   "outputs": [],
   "source": [
    "model_racer = np.array([3,7,9,1,9]) #Веса: механическая коробка передач, максимальная скорость - 9, разгон - 7, мощность -3, потребление - 1\n",
    "df_racer = df_norm\n",
    "df_racer['Auto'] = ~df_racer['Auto']\n",
    "line = np.array(df_racer.loc[0:3])\n",
    "df['racer_model'] = line.dot(model_racer)"
   ]
  },
  {
   "cell_type": "code",
   "execution_count": 41,
   "metadata": {},
   "outputs": [
    {
     "data": {
      "text/html": [
       "<div>\n",
       "<style scoped>\n",
       "    .dataframe tbody tr th:only-of-type {\n",
       "        vertical-align: middle;\n",
       "    }\n",
       "\n",
       "    .dataframe tbody tr th {\n",
       "        vertical-align: top;\n",
       "    }\n",
       "\n",
       "    .dataframe thead th {\n",
       "        text-align: right;\n",
       "    }\n",
       "</style>\n",
       "<table border=\"1\" class=\"dataframe\">\n",
       "  <thead>\n",
       "    <tr style=\"text-align: right;\">\n",
       "      <th></th>\n",
       "      <th>Name</th>\n",
       "      <th>Power</th>\n",
       "      <th>Acceleration</th>\n",
       "      <th>Max speed</th>\n",
       "      <th>Consumption</th>\n",
       "      <th>Transmission</th>\n",
       "      <th>Cost</th>\n",
       "      <th>mother_model</th>\n",
       "      <th>racer_model</th>\n",
       "      <th>student_model</th>\n",
       "    </tr>\n",
       "  </thead>\n",
       "  <tbody>\n",
       "    <tr>\n",
       "      <td>0</td>\n",
       "      <td>Mersedes</td>\n",
       "      <td>150</td>\n",
       "      <td>8.1</td>\n",
       "      <td>230</td>\n",
       "      <td>6.65</td>\n",
       "      <td>Auto</td>\n",
       "      <td>208000</td>\n",
       "      <td>13.506</td>\n",
       "      <td>19.1236</td>\n",
       "      <td>22.8588</td>\n",
       "    </tr>\n",
       "    <tr>\n",
       "      <td>1</td>\n",
       "      <td>BMW</td>\n",
       "      <td>136</td>\n",
       "      <td>8.9</td>\n",
       "      <td>210</td>\n",
       "      <td>6.30</td>\n",
       "      <td>Mechanic</td>\n",
       "      <td>2060000</td>\n",
       "      <td>7.92136</td>\n",
       "      <td>20.5681</td>\n",
       "      <td>23.9329</td>\n",
       "    </tr>\n",
       "    <tr>\n",
       "      <td>2</td>\n",
       "      <td>AUDI</td>\n",
       "      <td>190</td>\n",
       "      <td>6.8</td>\n",
       "      <td>250</td>\n",
       "      <td>7.20</td>\n",
       "      <td>Auto</td>\n",
       "      <td>2085000</td>\n",
       "      <td>12.9214</td>\n",
       "      <td>29.5681</td>\n",
       "      <td>24.9329</td>\n",
       "    </tr>\n",
       "    <tr>\n",
       "      <td>3</td>\n",
       "      <td>Wolts</td>\n",
       "      <td>150</td>\n",
       "      <td>7.9</td>\n",
       "      <td>232</td>\n",
       "      <td>7.10</td>\n",
       "      <td>Auto</td>\n",
       "      <td>2097210</td>\n",
       "      <td>11.6513</td>\n",
       "      <td>19.7403</td>\n",
       "      <td>19.2755</td>\n",
       "    </tr>\n",
       "  </tbody>\n",
       "</table>\n",
       "</div>"
      ],
      "text/plain": [
       "       Name  Power  Acceleration  Max speed  Consumption Transmission  \\\n",
       "0  Mersedes    150           8.1        230         6.65         Auto   \n",
       "1       BMW    136           8.9        210         6.30     Mechanic   \n",
       "2      AUDI    190           6.8        250         7.20         Auto   \n",
       "3     Wolts    150           7.9        232         7.10         Auto   \n",
       "\n",
       "      Cost mother_model racer_model student_model  \n",
       "0   208000       13.506     19.1236       22.8588  \n",
       "1  2060000      7.92136     20.5681       23.9329  \n",
       "2  2085000      12.9214     29.5681       24.9329  \n",
       "3  2097210      11.6513     19.7403       19.2755  "
      ]
     },
     "execution_count": 41,
     "metadata": {},
     "output_type": "execute_result"
    }
   ],
   "source": [
    "model_student = np.array([1,7,5,9,3]) #Веса: Расход - 9, Разгон - 7, Макс скорост -5, коробка передач - 3, мощность - 1\n",
    "line = np.array(df_norm.loc[0:3])\n",
    "df['student_model'] = line.dot(model_student)\n",
    "df"
   ]
  },
  {
   "cell_type": "code",
   "execution_count": 62,
   "metadata": {},
   "outputs": [
    {
     "data": {
      "text/plain": [
       "Text(0.5, 1.0, 'mother_model')"
      ]
     },
     "execution_count": 62,
     "metadata": {},
     "output_type": "execute_result"
    },
    {
     "data": {
      "image/png": "[encoded data removed]",
      "text/plain": [
       "<Figure size 432x288 with 1 Axes>"
      ]
     },
     "metadata": {
      "needs_background": "light"
     },
     "output_type": "display_data"
    }
   ],
   "source": [
    "plt.scatter(dft['Cost'], dft['mother_model'], marker='o')\n",
    "ax = plt.gca()\n",
    "for i in range(0,4):\n",
    "    ax.text(dft.loc[i,'Cost'], dft.loc[i,'mother_model'], dft.loc[i,'Name'])\n",
    "plt.title ('mother_model')"
   ]
  },
  {
   "cell_type": "code",
   "execution_count": 63,
   "metadata": {},
   "outputs": [
    {
     "data": {
      "text/plain": [
       "Text(0.5, 1.0, 'racer_model')"
      ]
     },
     "execution_count": 63,
     "metadata": {},
     "output_type": "execute_result"
    },
    {
     "data": {
      "image/png": "[encoded data removed]",
      "text/plain": [
       "<Figure size 432x288 with 1 Axes>"
      ]
     },
     "metadata": {
      "needs_background": "light"
     },
     "output_type": "display_data"
    }
   ],
   "source": [
    "plt.scatter(dft['Cost'], dft['racer_model'], marker='o')\n",
    "ax = plt.gca()\n",
    "for i in range(0,4):\n",
    "    ax.text(dft.loc[i,'Cost'], dft.loc[i,'racer_model'], dft.loc[i,'Name'])\n",
    "plt.title ('racer_model')"
   ]
  },
  {
   "cell_type": "code",
   "execution_count": 64,
   "metadata": {},
   "outputs": [
    {
     "data": {
      "text/plain": [
       "Text(0.5, 1.0, 'student_model')"
      ]
     },
     "execution_count": 64,
     "metadata": {},
     "output_type": "execute_result"
    },
    {
     "data": {
      "image/png": "[encoded data removed]",
      "text/plain": [
       "<Figure size 432x288 with 1 Axes>"
      ]
     },
     "metadata": {
      "needs_background": "light"
     },
     "output_type": "display_data"
    }
   ],
   "source": [
    "plt.scatter(dft['Cost'], dft['student_model'], marker='o')\n",
    "ax = plt.gca()\n",
    "for i in range(0,4):\n",
    "    ax.text(dft.loc[i,'Cost'], dft.loc[i,'student_model'], dft.loc[i,'Name'])\n",
    "plt.title ('student_model')"
   ]
  },
  {
   "cell_type": "code",
   "execution_count": null,
   "metadata": {},
   "outputs": [],
   "source": []
  }
 ],
 "metadata": {
  "kernelspec": {
   "display_name": "Python 3",
   "language": "python",
   "name": "python3"
  },
  "language_info": {
   "codemirror_mode": {
    "name": "ipython",
    "version": 3
   },
   "file_extension": ".py",
   "mimetype": "text/x-python",
   "name": "python",
   "nbconvert_exporter": "python",
   "pygments_lexer": "ipython3",
   "version": "3.7.4"
  }
 },
 "nbformat": 4,
 "nbformat_minor": 2
}
